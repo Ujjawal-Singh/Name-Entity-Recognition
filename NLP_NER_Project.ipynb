{
  "nbformat": 4,
  "nbformat_minor": 0,
  "metadata": {
    "colab": {
      "provenance": []
    },
    "kernelspec": {
      "name": "python3",
      "display_name": "Python 3"
    },
    "language_info": {
      "name": "python"
    }
  },
  "cells": [
    {
      "cell_type": "code",
      "execution_count": null,
      "metadata": {
        "id": "7NoA-XHEQS3z"
      },
      "outputs": [],
      "source": [
        "\n",
        "from __future__ import unicode_literals, print_function\n",
        "import numpy as np\n",
        "import pandas as pd\n",
        "\n",
        "import spacy\n",
        "from spacy import displacy\n",
        "from spacy.util import minibatch, compounding\n",
        "\n",
        "from sklearn.utils import shuffle\n",
        "import random\n",
        "from pathlib import Path\n",
        "from collections import Counter\n",
        "\n",
        "from matplotlib import pyplot as plt\n",
        "%matplotlib inline\n",
        "\n",
        "import pprint\n",
        "pp = pprint.PrettyPrinter(indent=4)\n",
        "\n",
        "import en_core_web_sm as en\n"
      ]
    },
    {
      "cell_type": "code",
      "source": [
        "from google.colab import drive\n",
        "drive.mount('/content/drive/')"
      ],
      "metadata": {
        "colab": {
          "base_uri": "https://localhost:8080/"
        },
        "id": "HJPamJnrRQdh",
        "outputId": "c4e1e8d6-980a-4cc3-ae36-91612c3e3496"
      },
      "execution_count": null,
      "outputs": [
        {
          "output_type": "stream",
          "name": "stdout",
          "text": [
            "Mounted at /content/drive/\n"
          ]
        }
      ]
    },
    {
      "cell_type": "code",
      "source": [
        "addresses_df = pd.read_csv('/content/drive/MyDrive/NLP_NER_Project/data/adresser.csv')\n",
        "\n",
        "addresses_df.replace('', np.nan, inplace=True)\n",
        "\n",
        "addresses_df = shuffle(addresses_df)\n",
        "\n",
        "addresses_df.head(n=10)\n"
      ],
      "metadata": {
        "colab": {
          "base_uri": "https://localhost:8080/",
          "height": 660
        },
        "id": "FDgGkBZ3QprV",
        "outputId": "f7422ede-b4fa-451d-c8c0-49e8da983e96"
      },
      "execution_count": null,
      "outputs": [
        {
          "output_type": "execute_result",
          "data": {
            "text/plain": [
              "       road code    Street Name addressing road name house number  \\\n",
              "23047       1250     Nyvangsvej           Nyvangsvej           20   \n",
              "31254       1694       Svalevej             Svalevej            6   \n",
              "33350       1845       Tranevej             Tranevej           40   \n",
              "18463        980    Landervejen          Landervejen           76   \n",
              "13125        722     Højstedvej           Højstedvej           20   \n",
              "7992         427  Frederiksberg        Frederiksberg           1A   \n",
              "6724         372    Falkensøvej          Falkensøvej          12A   \n",
              "14097        787    Josefinevej          Josefinevej            6   \n",
              "20142       1064     Lyngstræde           Lyngstræde            4   \n",
              "26679       1462    Sandlodsvej          Sandlodsvej           43   \n",
              "\n",
              "      Additional city name  postnr Postal Code Name  storm recipient zip code  \\\n",
              "23047                  NaN    4400       Kalundborg                       NaN   \n",
              "31254                  NaN    4270             Høng                       NaN   \n",
              "33350                  NaN    4270             Høng                       NaN   \n",
              "18463           Reersø Str    4281           Gørlev                       NaN   \n",
              "13125                  NaN    4591       Føllenslev                       NaN   \n",
              "7992                   NaN    4470         Svebølle                       NaN   \n",
              "6724        Kirke Helsinge    4281           Gørlev                       NaN   \n",
              "14097              Kaldred    4593        Eskebjerg                       NaN   \n",
              "20142               Havnsø    4591       Føllenslev                       NaN   \n",
              "26679                  NaN    4400       Kalundborg                       NaN   \n",
              "\n",
              "       stormodtagerpostnrnavn  municipal code municipality name  \\\n",
              "23047                     NaN             326        Kalundborg   \n",
              "31254                     NaN             326        Kalundborg   \n",
              "33350                     NaN             326        Kalundborg   \n",
              "18463                     NaN             326        Kalundborg   \n",
              "13125                     NaN             326        Kalundborg   \n",
              "7992                      NaN             326        Kalundborg   \n",
              "6724                      NaN             326        Kalundborg   \n",
              "14097                     NaN             326        Kalundborg   \n",
              "20142                     NaN             326        Kalundborg   \n",
              "26679                     NaN             326        Kalundborg   \n",
              "\n",
              "                              owner name  region code      region name  \\\n",
              "23047              Kalundborg Markjorder         1085  Region Sjælland   \n",
              "31254                  Høng By, Finderup         1085  Region Sjælland   \n",
              "33350                  Høng By, Finderup         1085  Region Sjælland   \n",
              "18463          Reersø By, Kirke Helsinge         1085  Region Sjælland   \n",
              "13125              Højsted By, Bregninge         1085  Region Sjælland   \n",
              "7992               Avnsøgård Hgd., Avnsø         1085  Region Sjælland   \n",
              "6724   Kirke Helsinge By, Kirke Helsinge         1085  Region Sjælland   \n",
              "14097                Torpe By, Bregninge         1085  Region Sjælland   \n",
              "20142              Havnsø By, Føllenslev         1085  Region Sjælland   \n",
              "26679                 Nostrup By, Raklev         1085  Region Sjælland   \n",
              "\n",
              "      jordstykke_ejerlavnavn (City Name) Municipality  \n",
              "23047              Kalundborg Markjorder   Kalundborg  \n",
              "31254                  Høng By, Finderup   Kalundborg  \n",
              "33350                  Høng By, Finderup   Kalundborg  \n",
              "18463          Reersø By, Kirke Helsinge   Kalundborg  \n",
              "13125              Højsted By, Bregninge   Kalundborg  \n",
              "7992               Avnsøgård Hgd., Avnsø   Kalundborg  \n",
              "6724   Kirke Helsinge By, Kirke Helsinge   Kalundborg  \n",
              "14097                Torpe By, Bregninge   Kalundborg  \n",
              "20142              Havnsø By, Føllenslev   Kalundborg  \n",
              "26679                 Nostrup By, Raklev   Kalundborg  "
            ],
            "text/html": [
              "\n",
              "  <div id=\"df-734db7f0-e325-4c6b-b905-dec19948f2f5\" class=\"colab-df-container\">\n",
              "    <div>\n",
              "<style scoped>\n",
              "    .dataframe tbody tr th:only-of-type {\n",
              "        vertical-align: middle;\n",
              "    }\n",
              "\n",
              "    .dataframe tbody tr th {\n",
              "        vertical-align: top;\n",
              "    }\n",
              "\n",
              "    .dataframe thead th {\n",
              "        text-align: right;\n",
              "    }\n",
              "</style>\n",
              "<table border=\"1\" class=\"dataframe\">\n",
              "  <thead>\n",
              "    <tr style=\"text-align: right;\">\n",
              "      <th></th>\n",
              "      <th>road code</th>\n",
              "      <th>Street Name</th>\n",
              "      <th>addressing road name</th>\n",
              "      <th>house number</th>\n",
              "      <th>Additional city name</th>\n",
              "      <th>postnr</th>\n",
              "      <th>Postal Code Name</th>\n",
              "      <th>storm recipient zip code</th>\n",
              "      <th>stormodtagerpostnrnavn</th>\n",
              "      <th>municipal code</th>\n",
              "      <th>municipality name</th>\n",
              "      <th>owner name</th>\n",
              "      <th>region code</th>\n",
              "      <th>region name</th>\n",
              "      <th>jordstykke_ejerlavnavn (City Name)</th>\n",
              "      <th>Municipality</th>\n",
              "    </tr>\n",
              "  </thead>\n",
              "  <tbody>\n",
              "    <tr>\n",
              "      <th>23047</th>\n",
              "      <td>1250</td>\n",
              "      <td>Nyvangsvej</td>\n",
              "      <td>Nyvangsvej</td>\n",
              "      <td>20</td>\n",
              "      <td>NaN</td>\n",
              "      <td>4400</td>\n",
              "      <td>Kalundborg</td>\n",
              "      <td>NaN</td>\n",
              "      <td>NaN</td>\n",
              "      <td>326</td>\n",
              "      <td>Kalundborg</td>\n",
              "      <td>Kalundborg Markjorder</td>\n",
              "      <td>1085</td>\n",
              "      <td>Region Sjælland</td>\n",
              "      <td>Kalundborg Markjorder</td>\n",
              "      <td>Kalundborg</td>\n",
              "    </tr>\n",
              "    <tr>\n",
              "      <th>31254</th>\n",
              "      <td>1694</td>\n",
              "      <td>Svalevej</td>\n",
              "      <td>Svalevej</td>\n",
              "      <td>6</td>\n",
              "      <td>NaN</td>\n",
              "      <td>4270</td>\n",
              "      <td>Høng</td>\n",
              "      <td>NaN</td>\n",
              "      <td>NaN</td>\n",
              "      <td>326</td>\n",
              "      <td>Kalundborg</td>\n",
              "      <td>Høng By, Finderup</td>\n",
              "      <td>1085</td>\n",
              "      <td>Region Sjælland</td>\n",
              "      <td>Høng By, Finderup</td>\n",
              "      <td>Kalundborg</td>\n",
              "    </tr>\n",
              "    <tr>\n",
              "      <th>33350</th>\n",
              "      <td>1845</td>\n",
              "      <td>Tranevej</td>\n",
              "      <td>Tranevej</td>\n",
              "      <td>40</td>\n",
              "      <td>NaN</td>\n",
              "      <td>4270</td>\n",
              "      <td>Høng</td>\n",
              "      <td>NaN</td>\n",
              "      <td>NaN</td>\n",
              "      <td>326</td>\n",
              "      <td>Kalundborg</td>\n",
              "      <td>Høng By, Finderup</td>\n",
              "      <td>1085</td>\n",
              "      <td>Region Sjælland</td>\n",
              "      <td>Høng By, Finderup</td>\n",
              "      <td>Kalundborg</td>\n",
              "    </tr>\n",
              "    <tr>\n",
              "      <th>18463</th>\n",
              "      <td>980</td>\n",
              "      <td>Landervejen</td>\n",
              "      <td>Landervejen</td>\n",
              "      <td>76</td>\n",
              "      <td>Reersø Str</td>\n",
              "      <td>4281</td>\n",
              "      <td>Gørlev</td>\n",
              "      <td>NaN</td>\n",
              "      <td>NaN</td>\n",
              "      <td>326</td>\n",
              "      <td>Kalundborg</td>\n",
              "      <td>Reersø By, Kirke Helsinge</td>\n",
              "      <td>1085</td>\n",
              "      <td>Region Sjælland</td>\n",
              "      <td>Reersø By, Kirke Helsinge</td>\n",
              "      <td>Kalundborg</td>\n",
              "    </tr>\n",
              "    <tr>\n",
              "      <th>13125</th>\n",
              "      <td>722</td>\n",
              "      <td>Højstedvej</td>\n",
              "      <td>Højstedvej</td>\n",
              "      <td>20</td>\n",
              "      <td>NaN</td>\n",
              "      <td>4591</td>\n",
              "      <td>Føllenslev</td>\n",
              "      <td>NaN</td>\n",
              "      <td>NaN</td>\n",
              "      <td>326</td>\n",
              "      <td>Kalundborg</td>\n",
              "      <td>Højsted By, Bregninge</td>\n",
              "      <td>1085</td>\n",
              "      <td>Region Sjælland</td>\n",
              "      <td>Højsted By, Bregninge</td>\n",
              "      <td>Kalundborg</td>\n",
              "    </tr>\n",
              "    <tr>\n",
              "      <th>7992</th>\n",
              "      <td>427</td>\n",
              "      <td>Frederiksberg</td>\n",
              "      <td>Frederiksberg</td>\n",
              "      <td>1A</td>\n",
              "      <td>NaN</td>\n",
              "      <td>4470</td>\n",
              "      <td>Svebølle</td>\n",
              "      <td>NaN</td>\n",
              "      <td>NaN</td>\n",
              "      <td>326</td>\n",
              "      <td>Kalundborg</td>\n",
              "      <td>Avnsøgård Hgd., Avnsø</td>\n",
              "      <td>1085</td>\n",
              "      <td>Region Sjælland</td>\n",
              "      <td>Avnsøgård Hgd., Avnsø</td>\n",
              "      <td>Kalundborg</td>\n",
              "    </tr>\n",
              "    <tr>\n",
              "      <th>6724</th>\n",
              "      <td>372</td>\n",
              "      <td>Falkensøvej</td>\n",
              "      <td>Falkensøvej</td>\n",
              "      <td>12A</td>\n",
              "      <td>Kirke Helsinge</td>\n",
              "      <td>4281</td>\n",
              "      <td>Gørlev</td>\n",
              "      <td>NaN</td>\n",
              "      <td>NaN</td>\n",
              "      <td>326</td>\n",
              "      <td>Kalundborg</td>\n",
              "      <td>Kirke Helsinge By, Kirke Helsinge</td>\n",
              "      <td>1085</td>\n",
              "      <td>Region Sjælland</td>\n",
              "      <td>Kirke Helsinge By, Kirke Helsinge</td>\n",
              "      <td>Kalundborg</td>\n",
              "    </tr>\n",
              "    <tr>\n",
              "      <th>14097</th>\n",
              "      <td>787</td>\n",
              "      <td>Josefinevej</td>\n",
              "      <td>Josefinevej</td>\n",
              "      <td>6</td>\n",
              "      <td>Kaldred</td>\n",
              "      <td>4593</td>\n",
              "      <td>Eskebjerg</td>\n",
              "      <td>NaN</td>\n",
              "      <td>NaN</td>\n",
              "      <td>326</td>\n",
              "      <td>Kalundborg</td>\n",
              "      <td>Torpe By, Bregninge</td>\n",
              "      <td>1085</td>\n",
              "      <td>Region Sjælland</td>\n",
              "      <td>Torpe By, Bregninge</td>\n",
              "      <td>Kalundborg</td>\n",
              "    </tr>\n",
              "    <tr>\n",
              "      <th>20142</th>\n",
              "      <td>1064</td>\n",
              "      <td>Lyngstræde</td>\n",
              "      <td>Lyngstræde</td>\n",
              "      <td>4</td>\n",
              "      <td>Havnsø</td>\n",
              "      <td>4591</td>\n",
              "      <td>Føllenslev</td>\n",
              "      <td>NaN</td>\n",
              "      <td>NaN</td>\n",
              "      <td>326</td>\n",
              "      <td>Kalundborg</td>\n",
              "      <td>Havnsø By, Føllenslev</td>\n",
              "      <td>1085</td>\n",
              "      <td>Region Sjælland</td>\n",
              "      <td>Havnsø By, Føllenslev</td>\n",
              "      <td>Kalundborg</td>\n",
              "    </tr>\n",
              "    <tr>\n",
              "      <th>26679</th>\n",
              "      <td>1462</td>\n",
              "      <td>Sandlodsvej</td>\n",
              "      <td>Sandlodsvej</td>\n",
              "      <td>43</td>\n",
              "      <td>NaN</td>\n",
              "      <td>4400</td>\n",
              "      <td>Kalundborg</td>\n",
              "      <td>NaN</td>\n",
              "      <td>NaN</td>\n",
              "      <td>326</td>\n",
              "      <td>Kalundborg</td>\n",
              "      <td>Nostrup By, Raklev</td>\n",
              "      <td>1085</td>\n",
              "      <td>Region Sjælland</td>\n",
              "      <td>Nostrup By, Raklev</td>\n",
              "      <td>Kalundborg</td>\n",
              "    </tr>\n",
              "  </tbody>\n",
              "</table>\n",
              "</div>\n",
              "    <div class=\"colab-df-buttons\">\n",
              "\n",
              "  <div class=\"colab-df-container\">\n",
              "    <button class=\"colab-df-convert\" onclick=\"convertToInteractive('df-734db7f0-e325-4c6b-b905-dec19948f2f5')\"\n",
              "            title=\"Convert this dataframe to an interactive table.\"\n",
              "            style=\"display:none;\">\n",
              "\n",
              "  <svg xmlns=\"http://www.w3.org/2000/svg\" height=\"24px\" viewBox=\"0 -960 960 960\">\n",
              "    <path d=\"M120-120v-720h720v720H120Zm60-500h600v-160H180v160Zm220 220h160v-160H400v160Zm0 220h160v-160H400v160ZM180-400h160v-160H180v160Zm440 0h160v-160H620v160ZM180-180h160v-160H180v160Zm440 0h160v-160H620v160Z\"/>\n",
              "  </svg>\n",
              "    </button>\n",
              "\n",
              "  <style>\n",
              "    .colab-df-container {\n",
              "      display:flex;\n",
              "      gap: 12px;\n",
              "    }\n",
              "\n",
              "    .colab-df-convert {\n",
              "      background-color: #E8F0FE;\n",
              "      border: none;\n",
              "      border-radius: 50%;\n",
              "      cursor: pointer;\n",
              "      display: none;\n",
              "      fill: #1967D2;\n",
              "      height: 32px;\n",
              "      padding: 0 0 0 0;\n",
              "      width: 32px;\n",
              "    }\n",
              "\n",
              "    .colab-df-convert:hover {\n",
              "      background-color: #E2EBFA;\n",
              "      box-shadow: 0px 1px 2px rgba(60, 64, 67, 0.3), 0px 1px 3px 1px rgba(60, 64, 67, 0.15);\n",
              "      fill: #174EA6;\n",
              "    }\n",
              "\n",
              "    .colab-df-buttons div {\n",
              "      margin-bottom: 4px;\n",
              "    }\n",
              "\n",
              "    [theme=dark] .colab-df-convert {\n",
              "      background-color: #3B4455;\n",
              "      fill: #D2E3FC;\n",
              "    }\n",
              "\n",
              "    [theme=dark] .colab-df-convert:hover {\n",
              "      background-color: #434B5C;\n",
              "      box-shadow: 0px 1px 3px 1px rgba(0, 0, 0, 0.15);\n",
              "      filter: drop-shadow(0px 1px 2px rgba(0, 0, 0, 0.3));\n",
              "      fill: #FFFFFF;\n",
              "    }\n",
              "  </style>\n",
              "\n",
              "    <script>\n",
              "      const buttonEl =\n",
              "        document.querySelector('#df-734db7f0-e325-4c6b-b905-dec19948f2f5 button.colab-df-convert');\n",
              "      buttonEl.style.display =\n",
              "        google.colab.kernel.accessAllowed ? 'block' : 'none';\n",
              "\n",
              "      async function convertToInteractive(key) {\n",
              "        const element = document.querySelector('#df-734db7f0-e325-4c6b-b905-dec19948f2f5');\n",
              "        const dataTable =\n",
              "          await google.colab.kernel.invokeFunction('convertToInteractive',\n",
              "                                                    [key], {});\n",
              "        if (!dataTable) return;\n",
              "\n",
              "        const docLinkHtml = 'Like what you see? Visit the ' +\n",
              "          '<a target=\"_blank\" href=https://colab.research.google.com/notebooks/data_table.ipynb>data table notebook</a>'\n",
              "          + ' to learn more about interactive tables.';\n",
              "        element.innerHTML = '';\n",
              "        dataTable['output_type'] = 'display_data';\n",
              "        await google.colab.output.renderOutput(dataTable, element);\n",
              "        const docLink = document.createElement('div');\n",
              "        docLink.innerHTML = docLinkHtml;\n",
              "        element.appendChild(docLink);\n",
              "      }\n",
              "    </script>\n",
              "  </div>\n",
              "\n",
              "\n",
              "<div id=\"df-6e0cc6c7-8ceb-40f4-bf4f-eac29b565846\">\n",
              "  <button class=\"colab-df-quickchart\" onclick=\"quickchart('df-6e0cc6c7-8ceb-40f4-bf4f-eac29b565846')\"\n",
              "            title=\"Suggest charts\"\n",
              "            style=\"display:none;\">\n",
              "\n",
              "<svg xmlns=\"http://www.w3.org/2000/svg\" height=\"24px\"viewBox=\"0 0 24 24\"\n",
              "     width=\"24px\">\n",
              "    <g>\n",
              "        <path d=\"M19 3H5c-1.1 0-2 .9-2 2v14c0 1.1.9 2 2 2h14c1.1 0 2-.9 2-2V5c0-1.1-.9-2-2-2zM9 17H7v-7h2v7zm4 0h-2V7h2v10zm4 0h-2v-4h2v4z\"/>\n",
              "    </g>\n",
              "</svg>\n",
              "  </button>\n",
              "\n",
              "<style>\n",
              "  .colab-df-quickchart {\n",
              "      --bg-color: #E8F0FE;\n",
              "      --fill-color: #1967D2;\n",
              "      --hover-bg-color: #E2EBFA;\n",
              "      --hover-fill-color: #174EA6;\n",
              "      --disabled-fill-color: #AAA;\n",
              "      --disabled-bg-color: #DDD;\n",
              "  }\n",
              "\n",
              "  [theme=dark] .colab-df-quickchart {\n",
              "      --bg-color: #3B4455;\n",
              "      --fill-color: #D2E3FC;\n",
              "      --hover-bg-color: #434B5C;\n",
              "      --hover-fill-color: #FFFFFF;\n",
              "      --disabled-bg-color: #3B4455;\n",
              "      --disabled-fill-color: #666;\n",
              "  }\n",
              "\n",
              "  .colab-df-quickchart {\n",
              "    background-color: var(--bg-color);\n",
              "    border: none;\n",
              "    border-radius: 50%;\n",
              "    cursor: pointer;\n",
              "    display: none;\n",
              "    fill: var(--fill-color);\n",
              "    height: 32px;\n",
              "    padding: 0;\n",
              "    width: 32px;\n",
              "  }\n",
              "\n",
              "  .colab-df-quickchart:hover {\n",
              "    background-color: var(--hover-bg-color);\n",
              "    box-shadow: 0 1px 2px rgba(60, 64, 67, 0.3), 0 1px 3px 1px rgba(60, 64, 67, 0.15);\n",
              "    fill: var(--button-hover-fill-color);\n",
              "  }\n",
              "\n",
              "  .colab-df-quickchart-complete:disabled,\n",
              "  .colab-df-quickchart-complete:disabled:hover {\n",
              "    background-color: var(--disabled-bg-color);\n",
              "    fill: var(--disabled-fill-color);\n",
              "    box-shadow: none;\n",
              "  }\n",
              "\n",
              "  .colab-df-spinner {\n",
              "    border: 2px solid var(--fill-color);\n",
              "    border-color: transparent;\n",
              "    border-bottom-color: var(--fill-color);\n",
              "    animation:\n",
              "      spin 1s steps(1) infinite;\n",
              "  }\n",
              "\n",
              "  @keyframes spin {\n",
              "    0% {\n",
              "      border-color: transparent;\n",
              "      border-bottom-color: var(--fill-color);\n",
              "      border-left-color: var(--fill-color);\n",
              "    }\n",
              "    20% {\n",
              "      border-color: transparent;\n",
              "      border-left-color: var(--fill-color);\n",
              "      border-top-color: var(--fill-color);\n",
              "    }\n",
              "    30% {\n",
              "      border-color: transparent;\n",
              "      border-left-color: var(--fill-color);\n",
              "      border-top-color: var(--fill-color);\n",
              "      border-right-color: var(--fill-color);\n",
              "    }\n",
              "    40% {\n",
              "      border-color: transparent;\n",
              "      border-right-color: var(--fill-color);\n",
              "      border-top-color: var(--fill-color);\n",
              "    }\n",
              "    60% {\n",
              "      border-color: transparent;\n",
              "      border-right-color: var(--fill-color);\n",
              "    }\n",
              "    80% {\n",
              "      border-color: transparent;\n",
              "      border-right-color: var(--fill-color);\n",
              "      border-bottom-color: var(--fill-color);\n",
              "    }\n",
              "    90% {\n",
              "      border-color: transparent;\n",
              "      border-bottom-color: var(--fill-color);\n",
              "    }\n",
              "  }\n",
              "</style>\n",
              "\n",
              "  <script>\n",
              "    async function quickchart(key) {\n",
              "      const quickchartButtonEl =\n",
              "        document.querySelector('#' + key + ' button');\n",
              "      quickchartButtonEl.disabled = true;  // To prevent multiple clicks.\n",
              "      quickchartButtonEl.classList.add('colab-df-spinner');\n",
              "      try {\n",
              "        const charts = await google.colab.kernel.invokeFunction(\n",
              "            'suggestCharts', [key], {});\n",
              "      } catch (error) {\n",
              "        console.error('Error during call to suggestCharts:', error);\n",
              "      }\n",
              "      quickchartButtonEl.classList.remove('colab-df-spinner');\n",
              "      quickchartButtonEl.classList.add('colab-df-quickchart-complete');\n",
              "    }\n",
              "    (() => {\n",
              "      let quickchartButtonEl =\n",
              "        document.querySelector('#df-6e0cc6c7-8ceb-40f4-bf4f-eac29b565846 button');\n",
              "      quickchartButtonEl.style.display =\n",
              "        google.colab.kernel.accessAllowed ? 'block' : 'none';\n",
              "    })();\n",
              "  </script>\n",
              "</div>\n",
              "\n",
              "    </div>\n",
              "  </div>\n"
            ],
            "application/vnd.google.colaboratory.intrinsic+json": {
              "type": "dataframe",
              "variable_name": "addresses_df",
              "summary": "{\n  \"name\": \"addresses_df\",\n  \"rows\": 37288,\n  \"fields\": [\n    {\n      \"column\": \"road code\",\n      \"properties\": {\n        \"dtype\": \"number\",\n        \"std\": 597,\n        \"min\": 5,\n        \"max\": 2133,\n        \"num_unique_values\": 1658,\n        \"samples\": [\n          539,\n          723,\n          2065\n        ],\n        \"semantic_type\": \"\",\n        \"description\": \"\"\n      }\n    },\n    {\n      \"column\": \"Street Name\",\n      \"properties\": {\n        \"dtype\": \"category\",\n        \"num_unique_values\": 1443,\n        \"samples\": [\n          \"Askelunden\",\n          \"Ole Lundsvej\",\n          \"Dyvek\\u00e6rvej\"\n        ],\n        \"semantic_type\": \"\",\n        \"description\": \"\"\n      }\n    },\n    {\n      \"column\": \"addressing road name\",\n      \"properties\": {\n        \"dtype\": \"category\",\n        \"num_unique_values\": 1443,\n        \"samples\": [\n          \"Askelunden\",\n          \"Ole Lundsvej\",\n          \"Dyvek\\u00e6rvej\"\n        ],\n        \"semantic_type\": \"\",\n        \"description\": \"\"\n      }\n    },\n    {\n      \"column\": \"house number\",\n      \"properties\": {\n        \"dtype\": \"category\",\n        \"num_unique_values\": 1154,\n        \"samples\": [\n          \"103A\",\n          \"24G\",\n          \"256\"\n        ],\n        \"semantic_type\": \"\",\n        \"description\": \"\"\n      }\n    },\n    {\n      \"column\": \"Additional city name\",\n      \"properties\": {\n        \"dtype\": \"category\",\n        \"num_unique_values\": 126,\n        \"samples\": [\n          \"Bjerge Mark\",\n          \"R\\u00f8rby\",\n          \"Almager\"\n        ],\n        \"semantic_type\": \"\",\n        \"description\": \"\"\n      }\n    },\n    {\n      \"column\": \"postnr\",\n      \"properties\": {\n        \"dtype\": \"number\",\n        \"std\": 100,\n        \"min\": 4200,\n        \"max\": 4593,\n        \"num_unique_values\": 15,\n        \"samples\": [\n          4450,\n          4291,\n          4400\n        ],\n        \"semantic_type\": \"\",\n        \"description\": \"\"\n      }\n    },\n    {\n      \"column\": \"Postal Code Name\",\n      \"properties\": {\n        \"dtype\": \"category\",\n        \"num_unique_values\": 15,\n        \"samples\": [\n          \"Jyderup\",\n          \"Ruds Vedby\",\n          \"Kalundborg\"\n        ],\n        \"semantic_type\": \"\",\n        \"description\": \"\"\n      }\n    },\n    {\n      \"column\": \"storm recipient zip code\",\n      \"properties\": {\n        \"dtype\": \"number\",\n        \"std\": null,\n        \"min\": null,\n        \"max\": null,\n        \"num_unique_values\": 0,\n        \"samples\": [],\n        \"semantic_type\": \"\",\n        \"description\": \"\"\n      }\n    },\n    {\n      \"column\": \"stormodtagerpostnrnavn\",\n      \"properties\": {\n        \"dtype\": \"number\",\n        \"std\": null,\n        \"min\": null,\n        \"max\": null,\n        \"num_unique_values\": 0,\n        \"samples\": [],\n        \"semantic_type\": \"\",\n        \"description\": \"\"\n      }\n    },\n    {\n      \"column\": \"municipal code\",\n      \"properties\": {\n        \"dtype\": \"number\",\n        \"std\": 0,\n        \"min\": 326,\n        \"max\": 326,\n        \"num_unique_values\": 1,\n        \"samples\": [],\n        \"semantic_type\": \"\",\n        \"description\": \"\"\n      }\n    },\n    {\n      \"column\": \"municipality name\",\n      \"properties\": {\n        \"dtype\": \"category\",\n        \"num_unique_values\": 1,\n        \"samples\": [],\n        \"semantic_type\": \"\",\n        \"description\": \"\"\n      }\n    },\n    {\n      \"column\": \"owner name\",\n      \"properties\": {\n        \"dtype\": \"category\",\n        \"num_unique_values\": 140,\n        \"samples\": [],\n        \"semantic_type\": \"\",\n        \"description\": \"\"\n      }\n    },\n    {\n      \"column\": \"region code\",\n      \"properties\": {\n        \"dtype\": \"number\",\n        \"std\": 0,\n        \"min\": 1085,\n        \"max\": 1085,\n        \"num_unique_values\": 1,\n        \"samples\": [],\n        \"semantic_type\": \"\",\n        \"description\": \"\"\n      }\n    },\n    {\n      \"column\": \"region name\",\n      \"properties\": {\n        \"dtype\": \"category\",\n        \"num_unique_values\": 1,\n        \"samples\": [],\n        \"semantic_type\": \"\",\n        \"description\": \"\"\n      }\n    },\n    {\n      \"column\": \"jordstykke_ejerlavnavn (City Name)\",\n      \"properties\": {\n        \"dtype\": \"category\",\n        \"num_unique_values\": 142,\n        \"samples\": [],\n        \"semantic_type\": \"\",\n        \"description\": \"\"\n      }\n    },\n    {\n      \"column\": \"Municipality\",\n      \"properties\": {\n        \"dtype\": \"category\",\n        \"num_unique_values\": 1,\n        \"samples\": [],\n        \"semantic_type\": \"\",\n        \"description\": \"\"\n      }\n    }\n  ]\n}"
            }
          },
          "metadata": {},
          "execution_count": 3
        }
      ]
    },
    {
      "cell_type": "code",
      "source": [
        "pp.pprint(addresses_df.shape)"
      ],
      "metadata": {
        "colab": {
          "base_uri": "https://localhost:8080/"
        },
        "id": "SM7E2jFYQsQ2",
        "outputId": "06f1c9e2-fcb6-40a7-8103-10039aeabc44"
      },
      "execution_count": null,
      "outputs": [
        {
          "output_type": "stream",
          "name": "stdout",
          "text": [
            "(37288, 16)\n"
          ]
        }
      ]
    },
    {
      "cell_type": "code",
      "source": [
        "training_data = []\n",
        "\n",
        "# define new entity label for street address (STREET_NAME)\n",
        "label = 'STREET_NAME'\n",
        "\n",
        "sentences_templates = [\"I live in {0}\", \"Friend of mine lives in {0}\", \"I know the address of that street, it is {0}\",\\\n",
        "    \"Mr. Absalon Adam lived before in {0}\", \"I like the resturants in {0}\", \"Check the map to find the directions to {0}\", \\\n",
        "    \"My friend Aksel will meet me in {0}\", \"Me and Adrian has a meeting in {0}\", \"Taxi driver can take you to {0}\", \\\n",
        "      \"Stay away of {0}\", \"His address is {0}\", \"My cousine lives in {0}\", \"I like shops in {0}\", \"Let us drive to {0}\", \\\n",
        "      \"Do you like this street?\", \"I walk everyday in that place\", \"{0}, this is my current address\", \"{0} is awesome place\"\n",
        "]\n",
        "\n",
        "# prepare the new training dataset based on the data collected from the street addresses in Kalundborg city in Denmark\n",
        "def prepare_training_data():\n",
        "\n",
        "    for index, item in addresses_df.iterrows():\n",
        "        sentence_pholder_idx = np.random.randint(0, len(sentences_templates), size=1)[0]\n",
        "        sentence_pholder = sentences_templates[sentence_pholder_idx]\n",
        "\n",
        "        street_address = item['Street Name'] + \" \" + str(item['road code'])\n",
        "        if '{0}' in sentence_pholder:\n",
        "            if item['Additional city name'] != '':\n",
        "                if item['Additional city name'] != np.nan and str(item['Additional city name']) != 'nan':\n",
        "                    street_address = street_address + \", \"+ item['Additional city name']\n",
        "\n",
        "            street_address = street_address + \", \"+ item['Municipality']\n",
        "            start_idx = sentence_pholder.find('{0}')\n",
        "            new_sentence = sentence_pholder.replace('{0}', street_address)\n",
        "            end_idx = start_idx + len(street_address)\n",
        "\n",
        "            training_data.append((new_sentence, {\n",
        "            'entities': [(start_idx, end_idx, label)]\n",
        "            }))\n",
        "        else:\n",
        "            new_sentence = sentence_pholder\n",
        "\n",
        "            training_data.append((new_sentence, {\n",
        "            'entities': []\n",
        "            }))\n",
        "\n",
        "    return training_data\n",
        "\n",
        "dataset = prepare_training_data()\n",
        "\n",
        "'''\n",
        "# Add few random examples for the existing entity types to our training dataset\n",
        "dataset.insert(10, ('Who is Shaka Khan?', {\n",
        "        'entities': [(7, 17, 'PERSON')]\n",
        "}))\n",
        "\n",
        "dataset.insert(300, ('Who is Bill Gates?', {\n",
        "        'entities': [(7, 17, 'PERSON')]\n",
        "}))\n",
        "\n",
        "dataset.insert(600, ('Steve Jobs was a genius but work holic.', {\n",
        "        'entities': [(0, 10, 'PERSON')]\n",
        "}))\n",
        "\n",
        "dataset.insert(1200, ('I like London and Berlin.', {\n",
        "        'entities': [(7, 13, 'LOC'), (18, 24, 'LOC')]\n",
        "    }))\n",
        "\n",
        "dataset.insert(1800, ('I like Cairo and Turkey.', {\n",
        "        'entities': [(7, 12, 'LOC'), (18, 24, 'LOC')]\n",
        "    }))\n",
        "'''\n",
        "\n",
        "# I will consider only 4000 instances during the training of the NER model (just to expedite the training process in that demo scenario)\n",
        "train_dataset = dataset[:4000]\n",
        "\n",
        "# pick 500 instaces as our test dataset\n",
        "test_dataset = dataset[10000:10500]\n",
        "\n",
        "# View 10 sentences from the new training dataset\n",
        "train_dataset[1000:1010]"
      ],
      "metadata": {
        "colab": {
          "base_uri": "https://localhost:8080/"
        },
        "id": "uIOQp4J4RChV",
        "outputId": "bb133a49-532e-4711-85bc-0b671778d484"
      },
      "execution_count": null,
      "outputs": [
        {
          "output_type": "execute_result",
          "data": {
            "text/plain": [
              "[('I walk everyday in that place', {'entities': []}),\n",
              " ('Bredgade 175, Kalundborg, this is my current address',\n",
              "  {'entities': [(0, 24, 'STREET_NAME')]}),\n",
              " ('Stay away of Klostermosen 2106, Kalundborg',\n",
              "  {'entities': [(13, 42, 'STREET_NAME')]}),\n",
              " ('His address is Skovvænget 1531, Kalundborg',\n",
              "  {'entities': [(15, 42, 'STREET_NAME')]}),\n",
              " ('My cousine lives in Rynkehaven 2122, Kalundborg',\n",
              "  {'entities': [(20, 47, 'STREET_NAME')]}),\n",
              " ('His address is Strandgårdsvej 1660, Havnsø Str, Kalundborg',\n",
              "  {'entities': [(15, 58, 'STREET_NAME')]}),\n",
              " ('Møllehøjvej 1185, Kærby, Kalundborg is awesome place',\n",
              "  {'entities': [(0, 35, 'STREET_NAME')]}),\n",
              " ('Mr. Absalon Adam lived before in Nyvangsvej 1250, Kalundborg',\n",
              "  {'entities': [(33, 60, 'STREET_NAME')]}),\n",
              " ('Let us drive to Skovager 1910, Rørby, Kalundborg',\n",
              "  {'entities': [(16, 48, 'STREET_NAME')]}),\n",
              " ('Fredskovens Engvej 433, Bjerge Sydstrand, Kalundborg is awesome place',\n",
              "  {'entities': [(0, 52, 'STREET_NAME')]})]"
            ]
          },
          "metadata": {},
          "execution_count": 5
        }
      ]
    },
    {
      "cell_type": "code",
      "source": [
        "def train_NER_model(train_data, new_model_name, output_dir, n_iter=20):\n",
        "    # Initialize a blank spaCy model or load an existing one\n",
        "    nlp = spacy.blank(\"en\")\n",
        "\n",
        "    # Add NER component to the pipeline\n",
        "    ner = nlp.add_pipe(\"ner\", last=False)\n",
        "\n",
        "    # Add labels to the NER component\n",
        "    for label in labels:\n",
        "        ner.add_label(label)\n",
        "\n",
        "    # Prepare training data\n",
        "    examples = []\n",
        "    for text, annotations in train_data:\n",
        "        doc = nlp.make_doc(text)\n",
        "        example = Example.from_dict(doc, annotations)\n",
        "        examples.append(example)\n",
        "\n",
        "    # Disable other pipelines during training\n",
        "    pipe_exceptions = [\"ner\"]\n",
        "    other_pipes = [pipe for pipe in nlp.pipe_names if pipe not in pipe_exceptions]\n",
        "\n",
        "    # Train only NER\n",
        "    with nlp.disable_pipes(*other_pipes):\n",
        "        optimizer = nlp.begin_training()\n",
        "        for itn in range(n_iter):\n",
        "            losses = {}\n",
        "            # Shuffle examples before training\n",
        "            random.shuffle(examples)\n",
        "            for batch in spacy.util.minibatch(examples, size=32):\n",
        "                nlp.update(batch, drop=0.5, losses=losses, sgd=optimizer)\n",
        "            print(\"Iteration: {} Loss: {}\".format(itn, losses))\n",
        "\n",
        "    # Save the trained model\n",
        "    nlp.to_disk(output_dir)\n",
        "    print(\"Model saved to:\", output_dir)\n",
        "\n",
        "# Example usage:\n",
        "train_data = [\n",
        "    (\"Some text here\", {\"entities\": [(0, 4, \"STREET_NAME\")]})\n",
        "]\n",
        "output_dir = '/content/drive/MyDrive/NLP_NER_Project/output'\n",
        "\n",
        "train_NER_model(train_data, new_model_name='street_names_model', output_dir=output_dir, n_iter=20)\n",
        "\n",
        "def load_trained_NER_model(output_dir):\n",
        "    nlp = spacy.load(output_dir)\n",
        "    return nlp\n",
        "\n",
        "def test_NER_model(nlp, test_doc):\n",
        "    doc = nlp(test_doc)\n",
        "    print(\"Entities:\", [(ent.text, ent.label_) for ent in doc.ents])\n",
        "\n",
        "# Assuming the functions are defined above\n",
        "\n",
        "# load the trained model\n",
        "nlp_trained_model = load_trained_NER_model(output_dir=output_dir)\n",
        "\n",
        "\n",
        "# test the trained model\n",
        "def test_NER_model(nlp_model, document_test, show_entities=True, style_sentence=True):\n",
        "    document = nlp_model(document_test)\n",
        "\n",
        "    if show_entities:\n",
        "      for entities in document.ents:\n",
        "          print(entities.label_, entities.text)\n",
        "\n",
        "    if style_sentence:\n",
        "      colors = {'STREET_NAME': 'linear-gradient(90deg, #aa9cfc, #fc9ce7)'}\n",
        "      displacy.render(document, jupyter=True, style='ent', options={'colors': colors})\n",
        "\n",
        "# choose random instances batch from the testing dataset to evaluate the trained NER model against unseen instances.\n",
        "def test_samples_batch(model, test_set=test_dataset, samples_no=10):\n",
        "\n",
        "    for i in range(0, samples_no):\n",
        "      test_sample_idx = np.random.randint(0, len(test_set), size=1)[0]\n",
        "      test_doc = test_set[test_sample_idx][0]\n",
        "\n",
        "      test_NER_model(model, test_doc, show_entities=False)\n",
        "\n"
      ],
      "metadata": {
        "colab": {
          "base_uri": "https://localhost:8080/"
        },
        "id": "5h29hTBRiklz",
        "outputId": "f377a463-f5ac-4f0e-f905-9406da95593d"
      },
      "execution_count": null,
      "outputs": [
        {
          "output_type": "stream",
          "name": "stdout",
          "text": [
            "Iteration: 0 Loss: {'ner': 2.6999998092651367}\n",
            "Iteration: 1 Loss: {'ner': 2.6539031267166138}\n",
            "Iteration: 2 Loss: {'ner': 2.6053884029388428}\n",
            "Iteration: 3 Loss: {'ner': 2.5473920106887817}\n",
            "Iteration: 4 Loss: {'ner': 2.4876153469085693}\n",
            "Iteration: 5 Loss: {'ner': 2.4646793007850647}\n",
            "Iteration: 6 Loss: {'ner': 2.285447359085083}\n",
            "Iteration: 7 Loss: {'ner': 2.315528690814972}\n",
            "Iteration: 8 Loss: {'ner': 2.019570827484131}\n",
            "Iteration: 9 Loss: {'ner': 2.106557548046112}\n",
            "Iteration: 10 Loss: {'ner': 2.0149401426315308}\n",
            "Iteration: 11 Loss: {'ner': 1.723852127790451}\n",
            "Iteration: 12 Loss: {'ner': 1.81505686044693}\n",
            "Iteration: 13 Loss: {'ner': 1.7802753448486328}\n",
            "Iteration: 14 Loss: {'ner': 1.5521973371505737}\n",
            "Iteration: 15 Loss: {'ner': 1.6055408120155334}\n",
            "Iteration: 16 Loss: {'ner': 1.3540944755077362}\n",
            "Iteration: 17 Loss: {'ner': 1.4553938210010529}\n",
            "Iteration: 18 Loss: {'ner': 1.1950233280658722}\n",
            "Iteration: 19 Loss: {'ner': 1.3749442100524902}\n",
            "Model saved to: /content/drive/MyDrive/NLP_NER_Project/output\n"
          ]
        }
      ]
    },
    {
      "cell_type": "code",
      "source": [
        "# load the trained model\n",
        "nlp_trained_model = load_trained_NER_model(output_dir=output_dir)\n",
        "\n",
        "# test the trained model\n",
        "sample_docs = [\"Mr. Absalon Adam lived before in Sine Olsensvej 1479, Svallerup, Kalundborg\",\n",
        "               \"I live currently in Absalonsvej 4, Bjerge Str, Copenhagen City, Denmark\",\n",
        "               \"His address is Elledevej 317, Kalundborg\",\n",
        "               \"Mr. Charles B. Evans is a consular officer, Department of State, Nouakchott Place 33, Washington DC\",\n",
        "               \"I live in Union Square 23, San Francisco.\"]\n",
        "\n",
        "for test_doc in sample_docs:\n",
        "  test_NER_model(nlp_trained_model, test_doc)"
      ],
      "metadata": {
        "colab": {
          "base_uri": "https://localhost:8080/",
          "height": 279
        },
        "id": "sShPUYCQbDJG",
        "outputId": "41dbce12-2d63-492d-b869-8b3eb72532ec"
      },
      "execution_count": null,
      "outputs": [
        {
          "output_type": "stream",
          "name": "stdout",
          "text": [
            "STREET_NAME Sine\n"
          ]
        },
        {
          "output_type": "display_data",
          "data": {
            "text/plain": [
              "<IPython.core.display.HTML object>"
            ],
            "text/html": [
              "<span class=\"tex2jax_ignore\"><div class=\"entities\" style=\"line-height: 2.5; direction: ltr\">Mr. Absalon Adam lived before in \n",
              "<mark class=\"entity\" style=\"background: linear-gradient(90deg, #aa9cfc, #fc9ce7); padding: 0.45em 0.6em; margin: 0 0.25em; line-height: 1; border-radius: 0.35em;\">\n",
              "    Sine\n",
              "    <span style=\"font-size: 0.8em; font-weight: bold; line-height: 1; border-radius: 0.35em; vertical-align: middle; margin-left: 0.5rem\">STREET_NAME</span>\n",
              "</mark>\n",
              " Olsensvej 1479, Svallerup, Kalundborg</div></span>"
            ]
          },
          "metadata": {}
        },
        {
          "output_type": "stream",
          "name": "stdout",
          "text": [
            "STREET_NAME ,\n"
          ]
        },
        {
          "output_type": "display_data",
          "data": {
            "text/plain": [
              "<IPython.core.display.HTML object>"
            ],
            "text/html": [
              "<span class=\"tex2jax_ignore\"><div class=\"entities\" style=\"line-height: 2.5; direction: ltr\">I live currently in Absalonsvej 4, Bjerge Str\n",
              "<mark class=\"entity\" style=\"background: linear-gradient(90deg, #aa9cfc, #fc9ce7); padding: 0.45em 0.6em; margin: 0 0.25em; line-height: 1; border-radius: 0.35em;\">\n",
              "    ,\n",
              "    <span style=\"font-size: 0.8em; font-weight: bold; line-height: 1; border-radius: 0.35em; vertical-align: middle; margin-left: 0.5rem\">STREET_NAME</span>\n",
              "</mark>\n",
              " Copenhagen City, Denmark</div></span>"
            ]
          },
          "metadata": {}
        },
        {
          "output_type": "stream",
          "name": "stdout",
          "text": [
            "STREET_NAME is\n",
            "STREET_NAME ,\n"
          ]
        },
        {
          "output_type": "display_data",
          "data": {
            "text/plain": [
              "<IPython.core.display.HTML object>"
            ],
            "text/html": [
              "<span class=\"tex2jax_ignore\"><div class=\"entities\" style=\"line-height: 2.5; direction: ltr\">His address \n",
              "<mark class=\"entity\" style=\"background: linear-gradient(90deg, #aa9cfc, #fc9ce7); padding: 0.45em 0.6em; margin: 0 0.25em; line-height: 1; border-radius: 0.35em;\">\n",
              "    is\n",
              "    <span style=\"font-size: 0.8em; font-weight: bold; line-height: 1; border-radius: 0.35em; vertical-align: middle; margin-left: 0.5rem\">STREET_NAME</span>\n",
              "</mark>\n",
              " Elledevej 317\n",
              "<mark class=\"entity\" style=\"background: linear-gradient(90deg, #aa9cfc, #fc9ce7); padding: 0.45em 0.6em; margin: 0 0.25em; line-height: 1; border-radius: 0.35em;\">\n",
              "    ,\n",
              "    <span style=\"font-size: 0.8em; font-weight: bold; line-height: 1; border-radius: 0.35em; vertical-align: middle; margin-left: 0.5rem\">STREET_NAME</span>\n",
              "</mark>\n",
              " Kalundborg</div></span>"
            ]
          },
          "metadata": {}
        },
        {
          "output_type": "stream",
          "name": "stdout",
          "text": [
            "STREET_NAME ,\n"
          ]
        },
        {
          "output_type": "display_data",
          "data": {
            "text/plain": [
              "<IPython.core.display.HTML object>"
            ],
            "text/html": [
              "<span class=\"tex2jax_ignore\"><div class=\"entities\" style=\"line-height: 2.5; direction: ltr\">Mr. Charles B. Evans is a consular officer\n",
              "<mark class=\"entity\" style=\"background: linear-gradient(90deg, #aa9cfc, #fc9ce7); padding: 0.45em 0.6em; margin: 0 0.25em; line-height: 1; border-radius: 0.35em;\">\n",
              "    ,\n",
              "    <span style=\"font-size: 0.8em; font-weight: bold; line-height: 1; border-radius: 0.35em; vertical-align: middle; margin-left: 0.5rem\">STREET_NAME</span>\n",
              "</mark>\n",
              " Department of State, Nouakchott Place 33, Washington DC</div></span>"
            ]
          },
          "metadata": {}
        },
        {
          "output_type": "display_data",
          "data": {
            "text/plain": [
              "<IPython.core.display.HTML object>"
            ],
            "text/html": [
              "<span class=\"tex2jax_ignore\"><div class=\"entities\" style=\"line-height: 2.5; direction: ltr\">I live in Union Square 23, San Francisco.</div></span>"
            ]
          },
          "metadata": {}
        }
      ]
    },
    {
      "cell_type": "code",
      "source": [
        "test_samples_batch(nlp_trained_model, test_dataset)"
      ],
      "metadata": {
        "id": "ezh0NqMhRruc",
        "colab": {
          "base_uri": "https://localhost:8080/",
          "height": 367
        },
        "outputId": "f67c164d-dc7c-493b-8d30-effe3ae03a9c"
      },
      "execution_count": null,
      "outputs": [
        {
          "output_type": "display_data",
          "data": {
            "text/plain": [
              "<IPython.core.display.HTML object>"
            ],
            "text/html": [
              "<span class=\"tex2jax_ignore\"><div class=\"entities\" style=\"line-height: 2.5; direction: ltr\">I like the resturants in Johannesvej \n",
              "<mark class=\"entity\" style=\"background: linear-gradient(90deg, #aa9cfc, #fc9ce7); padding: 0.45em 0.6em; margin: 0 0.25em; line-height: 1; border-radius: 0.35em;\">\n",
              "    780\n",
              "    <span style=\"font-size: 0.8em; font-weight: bold; line-height: 1; border-radius: 0.35em; vertical-align: middle; margin-left: 0.5rem\">STREET_NAME</span>\n",
              "</mark>\n",
              ", Kaldred, Kalundborg</div></span>"
            ]
          },
          "metadata": {}
        },
        {
          "output_type": "display_data",
          "data": {
            "text/plain": [
              "<IPython.core.display.HTML object>"
            ],
            "text/html": [
              "<span class=\"tex2jax_ignore\"><div class=\"entities\" style=\"line-height: 2.5; direction: ltr\">His address is Bag Slotsgraven 66, Kalundborg</div></span>"
            ]
          },
          "metadata": {}
        },
        {
          "output_type": "display_data",
          "data": {
            "text/plain": [
              "<IPython.core.display.HTML object>"
            ],
            "text/html": [
              "<span class=\"tex2jax_ignore\"><div class=\"entities\" style=\"line-height: 2.5; direction: ltr\">Stay away of Vognmandsvej 2021\n",
              "<mark class=\"entity\" style=\"background: linear-gradient(90deg, #aa9cfc, #fc9ce7); padding: 0.45em 0.6em; margin: 0 0.25em; line-height: 1; border-radius: 0.35em;\">\n",
              "    ,\n",
              "    <span style=\"font-size: 0.8em; font-weight: bold; line-height: 1; border-radius: 0.35em; vertical-align: middle; margin-left: 0.5rem\">STREET_NAME</span>\n",
              "</mark>\n",
              " Bjerge By, Kalundborg</div></span>"
            ]
          },
          "metadata": {}
        },
        {
          "output_type": "display_data",
          "data": {
            "text/plain": [
              "<IPython.core.display.HTML object>"
            ],
            "text/html": [
              "<span class=\"tex2jax_ignore\"><div class=\"entities\" style=\"line-height: 2.5; direction: ltr\">Elmevej 332\n",
              "<mark class=\"entity\" style=\"background: linear-gradient(90deg, #aa9cfc, #fc9ce7); padding: 0.45em 0.6em; margin: 0 0.25em; line-height: 1; border-radius: 0.35em;\">\n",
              "    ,\n",
              "    <span style=\"font-size: 0.8em; font-weight: bold; line-height: 1; border-radius: 0.35em; vertical-align: middle; margin-left: 0.5rem\">STREET_NAME</span>\n",
              "</mark>\n",
              " Kalundborg is awesome place</div></span>"
            ]
          },
          "metadata": {}
        },
        {
          "output_type": "display_data",
          "data": {
            "text/plain": [
              "<IPython.core.display.HTML object>"
            ],
            "text/html": [
              "<span class=\"tex2jax_ignore\"><div class=\"entities\" style=\"line-height: 2.5; direction: ltr\">I like the resturants in Slagelsevej 1543, Kalundborg</div></span>"
            ]
          },
          "metadata": {}
        },
        {
          "output_type": "display_data",
          "data": {
            "text/plain": [
              "<IPython.core.display.HTML object>"
            ],
            "text/html": [
              "<span class=\"tex2jax_ignore\"><div class=\"entities\" style=\"line-height: 2.5; direction: ltr\">My friend Aksel will meet me in Odinsvej 1266\n",
              "<mark class=\"entity\" style=\"background: linear-gradient(90deg, #aa9cfc, #fc9ce7); padding: 0.45em 0.6em; margin: 0 0.25em; line-height: 1; border-radius: 0.35em;\">\n",
              "    ,\n",
              "    <span style=\"font-size: 0.8em; font-weight: bold; line-height: 1; border-radius: 0.35em; vertical-align: middle; margin-left: 0.5rem\">STREET_NAME</span>\n",
              "</mark>\n",
              " Kalundborg</div></span>"
            ]
          },
          "metadata": {}
        },
        {
          "output_type": "display_data",
          "data": {
            "text/plain": [
              "<IPython.core.display.HTML object>"
            ],
            "text/html": [
              "<span class=\"tex2jax_ignore\"><div class=\"entities\" style=\"line-height: 2.5; direction: ltr\">I like the resturants in Ougtvedvej 1279, Ougtved, Kalundborg</div></span>"
            ]
          },
          "metadata": {}
        },
        {
          "output_type": "display_data",
          "data": {
            "text/plain": [
              "<IPython.core.display.HTML object>"
            ],
            "text/html": [
              "<span class=\"tex2jax_ignore\"><div class=\"entities\" style=\"line-height: 2.5; direction: ltr\">Do you like this street?</div></span>"
            ]
          },
          "metadata": {}
        },
        {
          "output_type": "display_data",
          "data": {
            "text/plain": [
              "<IPython.core.display.HTML object>"
            ],
            "text/html": [
              "<span class=\"tex2jax_ignore\"><div class=\"entities\" style=\"line-height: 2.5; direction: ltr\">Vesterled 1983, Kalundborg is awesome place</div></span>"
            ]
          },
          "metadata": {}
        },
        {
          "output_type": "display_data",
          "data": {
            "text/plain": [
              "<IPython.core.display.HTML object>"
            ],
            "text/html": [
              "<span class=\"tex2jax_ignore\"><div class=\"entities\" style=\"line-height: 2.5; direction: ltr\">Check the map to find the directions to Vestre Havnevej 1993\n",
              "<mark class=\"entity\" style=\"background: linear-gradient(90deg, #aa9cfc, #fc9ce7); padding: 0.45em 0.6em; margin: 0 0.25em; line-height: 1; border-radius: 0.35em;\">\n",
              "    ,\n",
              "    <span style=\"font-size: 0.8em; font-weight: bold; line-height: 1; border-radius: 0.35em; vertical-align: middle; margin-left: 0.5rem\">STREET_NAME</span>\n",
              "</mark>\n",
              " Kalundborg</div></span>"
            ]
          },
          "metadata": {}
        }
      ]
    }
  ]
}